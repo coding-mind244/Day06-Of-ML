{
 "cells": [
  {
   "cell_type": "markdown",
   "id": "fc36c991-a87e-4142-9837-b90044cc94fb",
   "metadata": {},
   "source": [
    "# Numpy Operations"
   ]
  },
  {
   "cell_type": "code",
   "execution_count": 2,
   "id": "82a0650a-9d50-468a-8c9f-438b21820696",
   "metadata": {},
   "outputs": [],
   "source": [
    "import numpy as np"
   ]
  },
  {
   "cell_type": "code",
   "execution_count": 3,
   "id": "ff7cfa27-1ee3-43d9-bb91-7775332106f6",
   "metadata": {},
   "outputs": [
    {
     "data": {
      "text/plain": [
       "array([-3, -3, -3, -3, -3, -3])"
      ]
     },
     "execution_count": 3,
     "metadata": {},
     "output_type": "execute_result"
    }
   ],
   "source": [
    "arr1 = np.array([1,2,3,4,5,6])\n",
    "arr2 = np.array([4,5,6,7,8,9])\n",
    "arr1 - arr2"
   ]
  },
  {
   "cell_type": "code",
   "execution_count": 6,
   "id": "6b5a298b-2e9b-4745-8a8a-b01c16a6d8ed",
   "metadata": {},
   "outputs": [
    {
     "data": {
      "text/plain": [
       "array([ 4, 10, 18, 28, 40, 54])"
      ]
     },
     "execution_count": 6,
     "metadata": {},
     "output_type": "execute_result"
    }
   ],
   "source": [
    "arr1 * arr2"
   ]
  },
  {
   "cell_type": "code",
   "execution_count": 7,
   "id": "ab3bdf35-6e85-4438-a7ec-69cf2bdc6e56",
   "metadata": {},
   "outputs": [
    {
     "data": {
      "text/plain": [
       "array([ 5,  7,  9, 11, 13, 15])"
      ]
     },
     "execution_count": 7,
     "metadata": {},
     "output_type": "execute_result"
    }
   ],
   "source": [
    "arr1 + arr2"
   ]
  },
  {
   "cell_type": "code",
   "execution_count": 8,
   "id": "71c10227-e5ae-478f-9361-ff9a9d688280",
   "metadata": {},
   "outputs": [
    {
     "data": {
      "text/plain": [
       "array([ 2,  4,  6,  8, 10, 12])"
      ]
     },
     "execution_count": 8,
     "metadata": {},
     "output_type": "execute_result"
    }
   ],
   "source": [
    "arr1 *2"
   ]
  },
  {
   "cell_type": "markdown",
   "id": "7a866c1e-7a0a-4ea4-8b46-bb3aa2dd1ac1",
   "metadata": {},
   "source": [
    "### (arr*2) is aslo known as Scaler multiplication and (arr1 * arr2) is also known as vector multiplication"
   ]
  },
  {
   "cell_type": "code",
   "execution_count": 9,
   "id": "bebc80ca-5578-4f66-9be1-7cfb6c7e34cd",
   "metadata": {},
   "outputs": [
    {
     "data": {
      "text/plain": [
       "array([False, False, False,  True,  True,  True])"
      ]
     },
     "execution_count": 9,
     "metadata": {},
     "output_type": "execute_result"
    }
   ],
   "source": [
    "arr1 > 3"
   ]
  },
  {
   "cell_type": "code",
   "execution_count": 10,
   "id": "9f3c138f-5a45-4474-aca7-88c850abac95",
   "metadata": {},
   "outputs": [
    {
     "data": {
      "text/plain": [
       "array([[ 28,  31],\n",
       "       [100, 112]])"
      ]
     },
     "execution_count": 10,
     "metadata": {},
     "output_type": "execute_result"
    }
   ],
   "source": [
    "arr3 = np.arange(6).reshape(2,3)\n",
    "arr4 = np.arange(6,12).reshape(3,2)\n",
    "arr3 .dot(arr4)"
   ]
  },
  {
   "cell_type": "code",
   "execution_count": 11,
   "id": "ffd0eb11-685c-4f59-812a-32bc85b4114e",
   "metadata": {},
   "outputs": [
    {
     "ename": "ValueError",
     "evalue": "shapes (2,3) and (6,) not aligned: 3 (dim 1) != 6 (dim 0)",
     "output_type": "error",
     "traceback": [
      "\u001b[0;31m---------------------------------------------------------------------------\u001b[0m",
      "\u001b[0;31mValueError\u001b[0m                                Traceback (most recent call last)",
      "Cell \u001b[0;32mIn[11], line 1\u001b[0m\n\u001b[0;32m----> 1\u001b[0m arr3\u001b[38;5;241m.\u001b[39mdot(arr1)\n",
      "\u001b[0;31mValueError\u001b[0m: shapes (2,3) and (6,) not aligned: 3 (dim 1) != 6 (dim 0)"
     ]
    }
   ],
   "source": [
    "arr3.dot(arr1)"
   ]
  },
  {
   "cell_type": "markdown",
   "id": "417d988d-108f-4bd1-9ef3-4e8691c24cd5",
   "metadata": {},
   "source": [
    "### Order is'nt fullfill in arr3.dot(arr1) because number of rows and columns are not same"
   ]
  },
  {
   "cell_type": "code",
   "execution_count": 12,
   "id": "f7aa6cae-eb29-4604-af10-dda47f8bfa88",
   "metadata": {},
   "outputs": [
    {
     "data": {
      "text/plain": [
       "11"
      ]
     },
     "execution_count": 12,
     "metadata": {},
     "output_type": "execute_result"
    }
   ],
   "source": [
    "arr4.max()"
   ]
  },
  {
   "cell_type": "code",
   "execution_count": 13,
   "id": "86aaad74-0630-4acb-9b78-4444d35f6dcb",
   "metadata": {},
   "outputs": [
    {
     "data": {
      "text/plain": [
       "6"
      ]
     },
     "execution_count": 13,
     "metadata": {},
     "output_type": "execute_result"
    }
   ],
   "source": [
    "arr4.min()"
   ]
  },
  {
   "cell_type": "code",
   "execution_count": 14,
   "id": "108b346b-f174-4e56-8f16-76e352b1dc28",
   "metadata": {},
   "outputs": [
    {
     "data": {
      "text/plain": [
       "array([[ 6,  7],\n",
       "       [ 8,  9],\n",
       "       [10, 11]])"
      ]
     },
     "execution_count": 14,
     "metadata": {},
     "output_type": "execute_result"
    }
   ],
   "source": [
    "arr4"
   ]
  },
  {
   "cell_type": "code",
   "execution_count": 15,
   "id": "7174c405-cbd8-411e-b859-3303822411fa",
   "metadata": {},
   "outputs": [
    {
     "data": {
      "text/plain": [
       "array([6, 7])"
      ]
     },
     "execution_count": 15,
     "metadata": {},
     "output_type": "execute_result"
    }
   ],
   "source": [
    "arr4.min(axis = 0)"
   ]
  },
  {
   "cell_type": "markdown",
   "id": "59bd91b8-d2ff-478d-8f97-b196f23e6a28",
   "metadata": {},
   "source": [
    "## Column-wise min number "
   ]
  },
  {
   "cell_type": "code",
   "execution_count": 16,
   "id": "0752c1a2-44fc-4a23-8a67-0498c9f744e3",
   "metadata": {},
   "outputs": [
    {
     "data": {
      "text/plain": [
       "array([ 6,  8, 10])"
      ]
     },
     "execution_count": 16,
     "metadata": {},
     "output_type": "execute_result"
    }
   ],
   "source": [
    "arr4.min(axis = 1)"
   ]
  },
  {
   "cell_type": "markdown",
   "id": "da3f94d6-03af-4414-9a4e-07479c1579b9",
   "metadata": {},
   "source": [
    "## Row-wise min number"
   ]
  },
  {
   "cell_type": "code",
   "execution_count": 17,
   "id": "6987b828-3c91-4ebc-b539-8efbdf3b031c",
   "metadata": {},
   "outputs": [
    {
     "data": {
      "text/plain": [
       "51"
      ]
     },
     "execution_count": 17,
     "metadata": {},
     "output_type": "execute_result"
    }
   ],
   "source": [
    "arr4.sum()"
   ]
  },
  {
   "cell_type": "code",
   "execution_count": 18,
   "id": "99d5d328-6d62-43af-9c12-f807cafe4ef8",
   "metadata": {},
   "outputs": [
    {
     "data": {
      "text/plain": [
       "array([24, 27])"
      ]
     },
     "execution_count": 18,
     "metadata": {},
     "output_type": "execute_result"
    }
   ],
   "source": [
    "arr4.sum(axis = 0)"
   ]
  },
  {
   "cell_type": "code",
   "execution_count": 19,
   "id": "21b5b981-55a9-45d4-b884-5db585803feb",
   "metadata": {},
   "outputs": [
    {
     "data": {
      "text/plain": [
       "8.5"
      ]
     },
     "execution_count": 19,
     "metadata": {},
     "output_type": "execute_result"
    }
   ],
   "source": [
    "arr4.mean()"
   ]
  },
  {
   "cell_type": "code",
   "execution_count": 20,
   "id": "cba33e7f-2348-4ee7-9197-586d2d0e303e",
   "metadata": {},
   "outputs": [
    {
     "data": {
      "text/plain": [
       "array([8., 9.])"
      ]
     },
     "execution_count": 20,
     "metadata": {},
     "output_type": "execute_result"
    }
   ],
   "source": [
    "arr4.mean(axis = 0)"
   ]
  },
  {
   "cell_type": "markdown",
   "id": "08ade3c9-178c-458d-9c62-194e1fc739ce",
   "metadata": {},
   "source": [
    "## .mean() function is use for to find the avarage"
   ]
  },
  {
   "cell_type": "code",
   "execution_count": 21,
   "id": "a4996434-325d-47b8-b717-1620693f7ffa",
   "metadata": {},
   "outputs": [
    {
     "data": {
      "text/plain": [
       "array([[-0.2794155 ,  0.6569866 ],\n",
       "       [ 0.98935825,  0.41211849],\n",
       "       [-0.54402111, -0.99999021]])"
      ]
     },
     "execution_count": 21,
     "metadata": {},
     "output_type": "execute_result"
    }
   ],
   "source": [
    "np.sin(arr4)"
   ]
  },
  {
   "cell_type": "markdown",
   "id": "db15584b-1507-429b-81fc-f77631d8dc24",
   "metadata": {},
   "source": [
    "### the above .sin() function return us the sin value of each item in arr4."
   ]
  },
  {
   "cell_type": "code",
   "execution_count": 25,
   "id": "495a6eb1-6a43-4233-8f03-8cd2577e7d23",
   "metadata": {},
   "outputs": [
    {
     "data": {
      "text/plain": [
       "1.707825127659933"
      ]
     },
     "execution_count": 25,
     "metadata": {},
     "output_type": "execute_result"
    }
   ],
   "source": [
    "arr4.std()"
   ]
  },
  {
   "cell_type": "markdown",
   "id": "9d130094-5932-40b8-8947-be29ba23f134",
   "metadata": {},
   "source": [
    "#### std() is a function provided by the NumPy library that calculates the standard deviation of an array or a set of values. Standard deviation is a measure of the amount of variation or dispersion of a set of values"
   ]
  },
  {
   "cell_type": "code",
   "execution_count": 22,
   "id": "0d48e53c-7315-4f41-9835-e6c34a19e668",
   "metadata": {},
   "outputs": [
    {
     "data": {
      "text/plain": [
       "array([[  403.42879349,  1096.63315843],\n",
       "       [ 2980.95798704,  8103.08392758],\n",
       "       [22026.46579481, 59874.1417152 ]])"
      ]
     },
     "execution_count": 22,
     "metadata": {},
     "output_type": "execute_result"
    }
   ],
   "source": [
    "np.exp(arr4)"
   ]
  },
  {
   "cell_type": "code",
   "execution_count": 24,
   "id": "cac8b5cd-240c-460d-a7cb-16bb5b1c6db9",
   "metadata": {},
   "outputs": [
    {
     "data": {
      "text/plain": [
       "array([[2.44948974, 2.64575131],\n",
       "       [2.82842712, 3.        ],\n",
       "       [3.16227766, 3.31662479]])"
      ]
     },
     "execution_count": 24,
     "metadata": {},
     "output_type": "execute_result"
    }
   ],
   "source": [
    "np.sqrt(arr4)"
   ]
  },
  {
   "cell_type": "code",
   "execution_count": 27,
   "id": "8b053417-3d85-4185-a041-52c83e431445",
   "metadata": {},
   "outputs": [
    {
     "data": {
      "text/plain": [
       "array([[ 36,  49],\n",
       "       [ 64,  81],\n",
       "       [100, 121]])"
      ]
     },
     "execution_count": 27,
     "metadata": {},
     "output_type": "execute_result"
    }
   ],
   "source": [
    "np.square(arr4)"
   ]
  },
  {
   "cell_type": "code",
   "execution_count": 28,
   "id": "b80c8a94-4686-44ab-a248-17c813af6fa3",
   "metadata": {},
   "outputs": [
    {
     "data": {
      "text/plain": [
       "array([[ 36,  49],\n",
       "       [ 64,  81],\n",
       "       [100, 121]])"
      ]
     },
     "execution_count": 28,
     "metadata": {},
     "output_type": "execute_result"
    }
   ],
   "source": [
    "np.square(arr4)"
   ]
  },
  {
   "cell_type": "code",
   "execution_count": null,
   "id": "1c1735f0-0107-4f38-92bd-05addaa69746",
   "metadata": {},
   "outputs": [],
   "source": []
  },
  {
   "cell_type": "code",
   "execution_count": null,
   "id": "91ec3725-8173-4e89-b5e5-5a95a5a298ef",
   "metadata": {},
   "outputs": [],
   "source": []
  }
 ],
 "metadata": {
  "kernelspec": {
   "display_name": "Python 3 (ipykernel)",
   "language": "python",
   "name": "python3"
  },
  "language_info": {
   "codemirror_mode": {
    "name": "ipython",
    "version": 3
   },
   "file_extension": ".py",
   "mimetype": "text/x-python",
   "name": "python",
   "nbconvert_exporter": "python",
   "pygments_lexer": "ipython3",
   "version": "3.12.7"
  }
 },
 "nbformat": 4,
 "nbformat_minor": 5
}
